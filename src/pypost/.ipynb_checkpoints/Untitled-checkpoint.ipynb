{
 "cells": [
  {
   "cell_type": "code",
   "execution_count": 4,
   "metadata": {},
   "outputs": [
    {
     "data": {
      "text/plain": [
       "0"
      ]
     },
     "execution_count": 4,
     "metadata": {},
     "output_type": "execute_result"
    }
   ],
   "source": [
    "# dependencias\n",
    "\n",
    "import paho.mqtt.client as mqtt\n",
    "import time\n",
    "import json\n",
    "\n",
    "msn = json.dumps({\"nome\": \"wal\", \"email\":  \"green\"})\n",
    "topic = \"node\"\n",
    "\n",
    "def on_connect(client, userdata, flags, rc):\n",
    "    print(\"Conectado:\"+str(rc))\n",
    "    # Topico de inscrição\n",
    "    client.subscribe(topic)\n",
    "\n",
    "\n",
    "def on_message(client, userdata, msg):\n",
    "    print(str(msg.payload))\n",
    "    \n",
    "client = mqtt.Client()\n",
    "client.on_connect = on_connect\n",
    "client.on_message = on_message\n",
    "# client.on_publish = on_publish\n",
    "\n",
    "client.connect(\"localhost\", 1883, 60)\n",
    "# client.loop_forever()"
   ]
  },
  {
   "cell_type": "code",
   "execution_count": 6,
   "metadata": {},
   "outputs": [
    {
     "name": "stdout",
     "output_type": "stream",
     "text": [
      "b'{\"sepalLength\": \"6.4\", \"sepalWidth\": \"3.2\", \"petalLength\": \"4.5\", \"petalWidth\": \"1.5\"}'b'{\"sepalLength\": \"6.4\", \"sepalWidth\": \"3.2\", \"petalLength\": \"4.5\", \"petalWidth\": \"1.5\"}'\n",
      "\n",
      "b'{\"sepalLength\": \"6.4\", \"sepalWidth\": \"3.2\", \"petalLength\": \"4.5\", \"petalWidth\": \"1.5\"}'b'{\"sepalLength\": \"6.4\", \"sepalWidth\": \"3.2\", \"petalLength\": \"4.5\", \"petalWidth\": \"1.5\"}'\n",
      "\n",
      "b'{\"sepalLength\": \"6.4\", \"sepalWidth\": \"3.2\", \"petalLength\": \"4.5\", \"petalWidth\": \"1.5\"}'b'{\"sepalLength\": \"6.4\", \"sepalWidth\": \"3.2\", \"petalLength\": \"4.5\", \"petalWidth\": \"1.5\"}'\n",
      "\n",
      "b'{\"sepalLength\": \"6.4\", \"sepalWidth\": \"3.2\", \"petalLength\": \"4.5\", \"petalWidth\": \"1.5\"}'b'{\"sepalLength\": \"6.4\", \"sepalWidth\": \"3.2\", \"petalLength\": \"4.5\", \"petalWidth\": \"1.5\"}'\n",
      "\n",
      "b'{\"sepalLength\": \"6.4\", \"sepalWidth\": \"3.2\", \"petalLength\": \"4.5\", \"petalWidth\": \"1.5\"}'b'{\"sepalLength\": \"6.4\", \"sepalWidth\": \"3.2\", \"petalLength\": \"4.5\", \"petalWidth\": \"1.5\"}'\n",
      "\n",
      "b'{\"sepalLength\": \"6.4\", \"sepalWidth\": \"3.2\", \"petalLength\": \"4.5\", \"petalWidth\": \"1.5\"}'b'{\"sepalLength\": \"6.4\", \"sepalWidth\": \"3.2\", \"petalLength\": \"4.5\", \"petalWidth\": \"1.5\"}'\n",
      "\n",
      "b'{\"sepalLength\": \"6.4\", \"sepalWidth\": \"3.2\", \"petalLength\": \"4.5\", \"petalWidth\": \"1.5\"}'b'{\"sepalLength\": \"6.4\", \"sepalWidth\": \"3.2\", \"petalLength\": \"4.5\", \"petalWidth\": \"1.5\"}'\n",
      "\n",
      "b'{\"sepalLength\": \"6.4\", \"sepalWidth\": \"3.2\", \"petalLength\": \"4.5\", \"petalWidth\": \"1.5\"}'b'{\"sepalLength\": \"6.4\", \"sepalWidth\": \"3.2\", \"petalLength\": \"4.5\", \"petalWidth\": \"1.5\"}'\n",
      "\n",
      "b'{\"sepalLength\": \"6.4\", \"sepalWidth\": \"3.2\", \"petalLength\": \"4.5\", \"petalWidth\": \"1.5\"}'b'{\"sepalLength\": \"6.4\", \"sepalWidth\": \"3.2\", \"petalLength\": \"4.5\", \"petalWidth\": \"1.5\"}'\n",
      "\n",
      "b'{\"sepalLength\": \"6.4\", \"sepalWidth\": \"3.2\", \"petalLength\": \"4.5\", \"petalWidth\": \"1.5\"}'b'{\"sepalLength\": \"6.4\", \"sepalWidth\": \"3.2\", \"petalLength\": \"4.5\", \"petalWidth\": \"1.5\"}'\n",
      "\n",
      "b'{\"sepalLength\": \"6.4\", \"sepalWidth\": \"3.2\", \"petalLength\": \"4.5\", \"petalWidth\": \"1.5\"}'b'{\"sepalLength\": \"6.4\", \"sepalWidth\": \"3.2\", \"petalLength\": \"4.5\", \"petalWidth\": \"1.5\"}'\n",
      "\n",
      "b'{\"sepalLength\": \"6.4\", \"sepalWidth\": \"3.2\", \"petalLength\": \"4.5\", \"petalWidth\": \"1.5\"}'\n",
      "b'{\"sepalLength\": \"6.4\", \"sepalWidth\": \"3.2\", \"petalLength\": \"4.5\", \"petalWidth\": \"1.5\"}'\n",
      "b'{\"sepalLength\": \"6.4\", \"sepalWidth\": \"3.2\", \"petalLength\": \"4.5\", \"petalWidth\": \"1.5\"}'b'{\"sepalLength\": \"6.4\", \"sepalWidth\": \"3.2\", \"petalLength\": \"4.5\", \"petalWidth\": \"1.5\"}'\n",
      "\n"
     ]
    },
    {
     "ename": "KeyboardInterrupt",
     "evalue": "",
     "output_type": "error",
     "traceback": [
      "\u001b[1;31m---------------------------------------------------------------------------\u001b[0m",
      "\u001b[1;31mKeyboardInterrupt\u001b[0m                         Traceback (most recent call last)",
      "\u001b[1;32m<ipython-input-6-6ade950118e4>\u001b[0m in \u001b[0;36m<module>\u001b[1;34m\u001b[0m\n\u001b[0;32m      4\u001b[0m \u001b[1;32mwhile\u001b[0m \u001b[1;32mTrue\u001b[0m\u001b[1;33m:\u001b[0m\u001b[1;33m\u001b[0m\u001b[1;33m\u001b[0m\u001b[0m\n\u001b[0;32m      5\u001b[0m     \u001b[0mclient\u001b[0m\u001b[1;33m.\u001b[0m\u001b[0mpublish\u001b[0m\u001b[1;33m(\u001b[0m\u001b[0mtopic\u001b[0m\u001b[1;33m,\u001b[0m\u001b[0mmsn\u001b[0m\u001b[1;33m)\u001b[0m\u001b[1;33m\u001b[0m\u001b[1;33m\u001b[0m\u001b[0m\n\u001b[1;32m----> 6\u001b[1;33m     \u001b[0mtime\u001b[0m\u001b[1;33m.\u001b[0m\u001b[0msleep\u001b[0m\u001b[1;33m(\u001b[0m\u001b[1;36m1\u001b[0m\u001b[1;33m)\u001b[0m\u001b[1;33m\u001b[0m\u001b[1;33m\u001b[0m\u001b[0m\n\u001b[0m\u001b[0;32m      7\u001b[0m \u001b[0mclient\u001b[0m\u001b[1;33m.\u001b[0m\u001b[0mloop_stop\u001b[0m\u001b[1;33m(\u001b[0m\u001b[1;33m)\u001b[0m\u001b[1;33m\u001b[0m\u001b[1;33m\u001b[0m\u001b[0m\n\u001b[0;32m      8\u001b[0m \u001b[0mclient\u001b[0m\u001b[1;33m.\u001b[0m\u001b[0mdisconnect\u001b[0m\u001b[1;33m(\u001b[0m\u001b[1;33m)\u001b[0m\u001b[1;33m\u001b[0m\u001b[1;33m\u001b[0m\u001b[0m\n",
      "\u001b[1;31mKeyboardInterrupt\u001b[0m: "
     ]
    }
   ],
   "source": [
    "# enviando.  \n",
    "client.loop_start()\n",
    "time.sleep(1)\n",
    "while True: \n",
    "    client.publish(topic,msn)\n",
    "    time.sleep(1)\n",
    "client.loop_stop()\n",
    "client.disconnect()"
   ]
  },
  {
   "cell_type": "code",
   "execution_count": null,
   "metadata": {},
   "outputs": [],
   "source": []
  }
 ],
 "metadata": {
  "kernelspec": {
   "display_name": "Python 3",
   "language": "python",
   "name": "python3"
  },
  "language_info": {
   "codemirror_mode": {
    "name": "ipython",
    "version": 3
   },
   "file_extension": ".py",
   "mimetype": "text/x-python",
   "name": "python",
   "nbconvert_exporter": "python",
   "pygments_lexer": "ipython3",
   "version": "3.8.3"
  }
 },
 "nbformat": 4,
 "nbformat_minor": 4
}
